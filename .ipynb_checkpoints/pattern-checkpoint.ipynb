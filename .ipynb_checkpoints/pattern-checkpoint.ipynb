{
 "cells": [
  {
   "cell_type": "markdown",
   "metadata": {},
   "source": [
    "## Square pattern"
   ]
  },
  {
   "cell_type": "code",
   "execution_count": 4,
   "metadata": {},
   "outputs": [
    {
     "name": "stdout",
     "output_type": "stream",
     "text": [
      "* * * * * \n",
      "* * * * * \n",
      "* * * * * \n",
      "* * * * * \n",
      "* * * * * \n"
     ]
    }
   ],
   "source": [
    "size = int(input('Enter size: '))\n",
    "\n",
    "for i in range(size):\n",
    "    for j in range(size):\n",
    "        print('*', end=\" \")\n",
    "    print() "
   ]
  },
  {
   "cell_type": "markdown",
   "metadata": {},
   "source": [
    "## Increasing Triangle pattern"
   ]
  },
  {
   "cell_type": "code",
   "execution_count": 15,
   "metadata": {},
   "outputs": [
    {
     "name": "stdout",
     "output_type": "stream",
     "text": [
      "* \n",
      "* * \n",
      "* * * \n",
      "* * * * \n",
      "* * * * * \n"
     ]
    }
   ],
   "source": [
    "size = int(input(\"Enter size : \"))\n",
    "\n",
    "for i in range(size):\n",
    "    for j in range(i+1):\n",
    "        print('*', end=' ')\n",
    "    print()"
   ]
  },
  {
   "cell_type": "markdown",
   "metadata": {},
   "source": [
    "## Decreasing Triangle pattern"
   ]
  },
  {
   "cell_type": "code",
   "execution_count": 17,
   "metadata": {},
   "outputs": [
    {
     "name": "stdout",
     "output_type": "stream",
     "text": [
      "* * * * * \n",
      "* * * * \n",
      "* * * \n",
      "* * \n",
      "* \n"
     ]
    }
   ],
   "source": [
    "size = int(input('Enter size : '))\n",
    "\n",
    "# for i in range(size, 0, -1):\n",
    "#     for j in range(i):\n",
    "#         print('*', end=' ')\n",
    "#     print()\n",
    "\n",
    "for i in range(size):\n",
    "    for j in range(i,size):\n",
    "        print('*', end=' ')\n",
    "    print()"
   ]
  },
  {
   "cell_type": "markdown",
   "metadata": {},
   "source": [
    "## Right Sided increasing traiangle"
   ]
  },
  {
   "cell_type": "code",
   "execution_count": 25,
   "metadata": {},
   "outputs": [
    {
     "name": "stdout",
     "output_type": "stream",
     "text": [
      "          * \n",
      "        * * \n",
      "      * * * \n",
      "    * * * * \n",
      "  * * * * * \n"
     ]
    }
   ],
   "source": [
    "size = int(input('Enter size : '))\n",
    "\n",
    "for i in range(size):\n",
    "    for j in range(i,size):\n",
    "        print(' ', end=' ')\n",
    "    for k in range(i+1):\n",
    "        print('*', end=' ')\n",
    "    print()"
   ]
  },
  {
   "cell_type": "markdown",
   "metadata": {},
   "source": [
    "## Right Sided decreasing traiangle"
   ]
  },
  {
   "cell_type": "code",
   "execution_count": 28,
   "metadata": {},
   "outputs": [
    {
     "name": "stdout",
     "output_type": "stream",
     "text": [
      "  * * * * * \n",
      "    * * * * \n",
      "      * * * \n",
      "        * * \n",
      "          * \n"
     ]
    }
   ],
   "source": [
    "size =  int(input(\"Enter size : \"))\n",
    "\n",
    "for i in range(size):\n",
    "    for k in range(i+1):\n",
    "        print(' ', end=' ')\n",
    "    for j in range(i, size):\n",
    "        print('*', end=' ')\n",
    "    print()\n",
    "    "
   ]
  },
  {
   "cell_type": "markdown",
   "metadata": {},
   "source": [
    "## Hill Pattern"
   ]
  },
  {
   "cell_type": "code",
   "execution_count": 30,
   "metadata": {},
   "outputs": [
    {
     "name": "stdout",
     "output_type": "stream",
     "text": [
      "          * \n",
      "        * * * \n",
      "      * * * * * \n",
      "    * * * * * * * \n",
      "  * * * * * * * * * \n"
     ]
    }
   ],
   "source": [
    "size = int(input('Enter size : '))\n",
    "\n",
    "for i in range(size):\n",
    "    for j in range(i, size):\n",
    "        print(' ', end=' ')\n",
    "    for k in range(i+1):\n",
    "        print('*', end=' ')\n",
    "    for l in range(i):\n",
    "        print('*', end=' ')\n",
    "    print()"
   ]
  },
  {
   "cell_type": "markdown",
   "metadata": {},
   "source": [
    "## Reverse Hill Pattern"
   ]
  },
  {
   "cell_type": "code",
   "execution_count": 33,
   "metadata": {},
   "outputs": [
    {
     "name": "stdout",
     "output_type": "stream",
     "text": [
      "  * * * * * * * * * \n",
      "    * * * * * * * \n",
      "      * * * * * \n",
      "        * * * \n",
      "          * \n"
     ]
    }
   ],
   "source": [
    "size = int(input('Enter size : '))\n",
    "\n",
    "for i in range(size):\n",
    "    for l in range(i+1):\n",
    "        print(' ', end=' ')\n",
    "    for j in range(i, size):\n",
    "        print('*', end=' ')\n",
    "    for k in range(i, size-1):\n",
    "        print('*', end=' ')\n",
    "    print()"
   ]
  },
  {
   "cell_type": "markdown",
   "metadata": {},
   "source": [
    "## Diamond Pattern"
   ]
  },
  {
   "cell_type": "code",
   "execution_count": 47,
   "metadata": {},
   "outputs": [
    {
     "name": "stdout",
     "output_type": "stream",
     "text": [
      "          * \n",
      "        * * * \n",
      "      * * * * * \n",
      "    * * * * * * * \n",
      "  * * * * * * * * * \n",
      "    * * * * * * * \n",
      "      * * * * * \n",
      "        * * * \n",
      "          * \n"
     ]
    }
   ],
   "source": [
    "size = int(input('Enter size '))\n",
    "\n",
    "# rows = size+size-1\n",
    "\n",
    "# Upper hill\n",
    "for i in range(size):\n",
    "    for j in range(i, size):\n",
    "        print(' ', end=' ')\n",
    "    for k in range(i+1):\n",
    "        print('*', end=' ')\n",
    "    for l in range(i):\n",
    "        print('*', end=' ')\n",
    "    print()\n",
    "\n",
    "# Lower hill\n",
    "for i in range(size-1):\n",
    "    for j in range(i+2):\n",
    "        print(' ', end=' ')\n",
    "    for k in range(i, size-1):\n",
    "        print('*', end=' ')\n",
    "    for l in range(i, size-2):\n",
    "        print('*', end=' ')\n",
    "    print()\n"
   ]
  },
  {
   "cell_type": "markdown",
   "metadata": {},
   "source": [
    "## Pyramid"
   ]
  },
  {
   "cell_type": "code",
   "execution_count": 55,
   "metadata": {},
   "outputs": [
    {
     "name": "stdout",
     "output_type": "stream",
     "text": [
      "          * \n",
      "        *   * \n",
      "      *   *   * \n",
      "    *   *   *   * \n",
      "  *   *   *   *   * \n"
     ]
    }
   ],
   "source": [
    "size = int(input(\"Enter size : \"))\n",
    "\n",
    "for i in range(size):\n",
    "    for j in range(i, size):\n",
    "        print(' ', end=' ')\n",
    "    for k in range(i+1):\n",
    "        if (k%2==0):\n",
    "            print('*', end=' ')\n",
    "        else:\n",
    "            print(' ', end=' ')\n",
    "    for l in range(i):\n",
    "        if ((i+l)%2!=0):\n",
    "            print('*', end=' ')\n",
    "        else:\n",
    "            print(' ', end=' ')\n",
    "    print()"
   ]
  },
  {
   "cell_type": "markdown",
   "metadata": {},
   "source": [
    "## Reverse Pyramid"
   ]
  },
  {
   "cell_type": "code",
   "execution_count": 59,
   "metadata": {},
   "outputs": [
    {
     "name": "stdout",
     "output_type": "stream",
     "text": [
      "  *   *   *   *   * \n",
      "    *   *   *   * \n",
      "      *   *   * \n",
      "        *   * \n",
      "          * \n"
     ]
    }
   ],
   "source": [
    "size = int(input(\"Enter size\"))\n",
    "\n",
    "for i in range(size):\n",
    "    for j in range(i+1):\n",
    "        print(' ', end=' ')\n",
    "    for k in range(i, size):\n",
    "        if ((i+k)%2==0):\n",
    "            print('*', end=' ')\n",
    "        else:\n",
    "            print(' ', end=' ')\n",
    "    for l in range(i, size-1):\n",
    "        if (l%2!=0):\n",
    "            print('*', end=' ')\n",
    "        else:print(' ', end=' ')\n",
    "    print()"
   ]
  },
  {
   "cell_type": "markdown",
   "metadata": {},
   "source": [
    "## Rangoli Pattern"
   ]
  },
  {
   "cell_type": "code",
   "execution_count": 83,
   "metadata": {},
   "outputs": [
    {
     "name": "stdout",
     "output_type": "stream",
     "text": [
      "- - - - * - - - - \n",
      "- - * - * - * - - \n",
      "* - * - * - * - * \n",
      "- - * - * - * - - \n",
      "- - - - * - - - - \n"
     ]
    }
   ],
   "source": [
    "size = int(input(\"enter size\"))\n",
    "\n",
    "size = size+size-1\n",
    "\n",
    "for i in range(size):\n",
    "    if(i%2==0):\n",
    "        for j in range(i, size-1):\n",
    "            print('-', end=' ')\n",
    "        for k in range(i+1):\n",
    "            if(k%2==0):\n",
    "                print('*', end=' ')\n",
    "            else:\n",
    "                print('-', end=' ')\n",
    "        for l in range(i):\n",
    "            if (l%2==0):\n",
    "                print('-', end=' ')\n",
    "            else:\n",
    "                print('*', end=' ')\n",
    "        for m in range(i, size-1):\n",
    "            print('-', end=' ')\n",
    "        print()\n",
    "\n",
    "for i in range(size):\n",
    "    if(i%2!=0):\n",
    "        for j in range(i+1):\n",
    "            print('-', end=' ')\n",
    "        for k in range(i,size-1):\n",
    "            if (k%2!=0):\n",
    "                print('*', end=' ')\n",
    "            else:\n",
    "                print('-', end=' ')\n",
    "\n",
    "        for l in range(i, size-2):\n",
    "            if(l%2==0):\n",
    "                print('*', end=' ')\n",
    "            else:\n",
    "                print('-', end=' ')\n",
    "        for m in range(i+1):\n",
    "            print('-', end=' ')\n",
    "\n",
    "        print()"
   ]
  },
  {
   "cell_type": "markdown",
   "metadata": {},
   "source": [
    "## Rangoli Pattern with alphabets"
   ]
  },
  {
   "cell_type": "code",
   "execution_count": 1,
   "metadata": {},
   "outputs": [
    {
     "name": "stdout",
     "output_type": "stream",
     "text": [
      "- - - - - - - - e - - - - - - - - \n",
      "- - - - - - e - d - e - - - - - - \n",
      "- - - - e - d - c - d - e - - - - \n",
      "- - e - d - c - b - c - d - e - - \n",
      "e - d - c - b - a - b - c - d - e \n",
      "- - e - d - c - b - c - d - e - - \n",
      "- - - - e - d - c - d - e - - - - \n",
      "- - - - - - e - d - e - - - - - - \n",
      "- - - - - - - - e - - - - - - - - \n"
     ]
    }
   ],
   "source": [
    "letter = int(input(\"enter size\"))\n",
    "\n",
    "size = letter+letter-1\n",
    "\n",
    "alpha = list(\"abcdefghijklmnopqrstuvwxyz\")\n",
    "\n",
    "for i in range(size):\n",
    "    if(i%2==0):\n",
    "        counter = letter-1\n",
    "        for j in range(i, size-1):\n",
    "            print('-', end=' ')\n",
    "        for k in range(i+1):\n",
    "            if(k%2==0):\n",
    "                print(alpha[counter], end=' ')\n",
    "                counter = counter -1\n",
    "            else:\n",
    "                print('-', end=' ')\n",
    "\n",
    "        counter=counter+2\n",
    "        for l in range(i):\n",
    "            if (l%2==0):\n",
    "                print('-', end=' ')\n",
    "            else:\n",
    "                print(alpha[counter], end=' ')\n",
    "                counter = counter+1\n",
    "        for m in range(i, size-1):\n",
    "            print('-', end=' ')\n",
    "        print()\n",
    "\n",
    "for i in range(size):\n",
    "    if(i%2!=0):\n",
    "        counter = letter-1\n",
    "        for j in range(i+1):\n",
    "            print('-', end=' ')\n",
    "        for k in range(i,size-1):\n",
    "            if (k%2!=0):\n",
    "                print(alpha[counter], end=' ')\n",
    "                counter = counter - 1\n",
    "            else:\n",
    "                print('-', end=' ')\n",
    "\n",
    "        counter = counter + 2 \n",
    "        for l in range(i, size-2):\n",
    "            if(l%2==0):\n",
    "                print(alpha[counter], end=' ')\n",
    "                counter = counter+1\n",
    "            else:\n",
    "                print('-', end=' ')\n",
    "        for m in range(i+1):\n",
    "            print('-', end=' ')\n",
    "\n",
    "        print()"
   ]
  },
  {
   "cell_type": "code",
   "execution_count": null,
   "metadata": {},
   "outputs": [],
   "source": []
  }
 ],
 "metadata": {
  "kernelspec": {
   "display_name": "Python 3.8.8 ('base')",
   "language": "python",
   "name": "python3"
  },
  "language_info": {
   "codemirror_mode": {
    "name": "ipython",
    "version": 3
   },
   "file_extension": ".py",
   "mimetype": "text/x-python",
   "name": "python",
   "nbconvert_exporter": "python",
   "pygments_lexer": "ipython3",
   "version": "3.8.8"
  },
  "orig_nbformat": 4,
  "vscode": {
   "interpreter": {
    "hash": "6c772a304ed13b6eb8e6867a11b4f4e7c331c2ebe401648fd53df806887b7f9a"
   }
  }
 },
 "nbformat": 4,
 "nbformat_minor": 2
}
