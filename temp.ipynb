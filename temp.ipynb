{
 "cells": [
  {
   "cell_type": "code",
   "execution_count": 13,
   "metadata": {},
   "outputs": [
    {
     "name": "stdout",
     "output_type": "stream",
     "text": [
      "124992\n",
      "124992\n"
     ]
    }
   ],
   "source": [
    "inp = input().split()\n",
    "# arr = list(map(int, input().rstrip().split()))\n",
    "arr = []\n",
    "arr_count = inp[0]\n",
    "arr = inp[1:]\n",
    "print(len(arr))\n",
    "print(arr_count)"
   ]
  },
  {
   "cell_type": "code",
   "execution_count": 27,
   "metadata": {},
   "outputs": [],
   "source": [
    "def migratory_birds2(arr_count, arr):\n",
    "    dic = {}\n",
    "    for i in arr:\n",
    "        if dic.get(str(i)) == None:\n",
    "            dic[str(i)] = 1\n",
    "        else:\n",
    "            dic[str(i)] = dic.get(str(i))+1\n",
    "            # t = dic.get(str(i))\n",
    "            # dic[str(i)] = t+1\n",
    "\n",
    "    print(dic)\n",
    "    mf = None\n",
    "    temp = 0\n",
    "    for key in dic.keys():\n",
    "        if dic.get(key) > temp:\n",
    "            temp = dic.get(key)\n",
    "            mf = key\n",
    "        elif dic.get(key) == temp:\n",
    "            if key < mf:\n",
    "                mf = key\n",
    "    return mf"
   ]
  },
  {
   "cell_type": "code",
   "execution_count": 28,
   "metadata": {},
   "outputs": [
    {
     "name": "stdout",
     "output_type": "stream",
     "text": [
      "{'5': 24998, '2': 24998, '4': 24999, '1': 24998, '3': 24999}\n",
      "3\n"
     ]
    }
   ],
   "source": [
    "print(migratory_birds2(arr_count, arr))"
   ]
  },
  {
   "cell_type": "code",
   "execution_count": 2,
   "metadata": {},
   "outputs": [
    {
     "data": {
      "text/plain": [
       "'abcdefghijklmnopqrstuvwxyz'"
      ]
     },
     "execution_count": 2,
     "metadata": {},
     "output_type": "execute_result"
    }
   ],
   "source": [
    "from string import ascii_letters, ascii_lowercase\n",
    "\n",
    "\n",
    "ascii_lowercase."
   ]
  },
  {
   "cell_type": "code",
   "execution_count": 1,
   "metadata": {},
   "outputs": [
    {
     "data": {
      "text/plain": [
       "18"
      ]
     },
     "execution_count": 1,
     "metadata": {},
     "output_type": "execute_result"
    }
   ],
   "source": [
    "int('18')"
   ]
  },
  {
   "cell_type": "code",
   "execution_count": 2,
   "metadata": {},
   "outputs": [
    {
     "data": {
      "text/plain": [
       "18"
      ]
     },
     "execution_count": 2,
     "metadata": {},
     "output_type": "execute_result"
    }
   ],
   "source": [
    "int('018')"
   ]
  },
  {
   "cell_type": "code",
   "execution_count": 3,
   "metadata": {},
   "outputs": [],
   "source": [
    "i = 48"
   ]
  },
  {
   "cell_type": "code",
   "execution_count": 4,
   "metadata": {},
   "outputs": [
    {
     "data": {
      "text/plain": [
       "8"
      ]
     },
     "execution_count": 4,
     "metadata": {},
     "output_type": "execute_result"
    }
   ],
   "source": [
    "48%10"
   ]
  },
  {
   "cell_type": "code",
   "execution_count": 7,
   "metadata": {},
   "outputs": [
    {
     "data": {
      "text/plain": [
       "4.0"
      ]
     },
     "execution_count": 7,
     "metadata": {},
     "output_type": "execute_result"
    }
   ],
   "source": [
    "40/10"
   ]
  },
  {
   "cell_type": "code",
   "execution_count": 41,
   "metadata": {},
   "outputs": [],
   "source": [
    "def reverse(num):\n",
    "    rev = 0\n",
    "    while(num>0):\n",
    "        rev = rev*10 + (num%10)\n",
    "        num = int(num/10)\n",
    "    return rev\n",
    "\n",
    "def beautifulDays(i, j, k):\n",
    "    count = 0\n",
    "    for x in range(i, j+1):\n",
    "        if (x+reverse(x))%k == 0:\n",
    "            count += 1\n",
    "\n",
    "    return count"
   ]
  },
  {
   "cell_type": "code",
   "execution_count": 44,
   "metadata": {},
   "outputs": [
    {
     "data": {
      "text/plain": [
       "0"
      ]
     },
     "execution_count": 44,
     "metadata": {},
     "output_type": "execute_result"
    }
   ],
   "source": [
    "beautifulDays(20,23,6)"
   ]
  },
  {
   "cell_type": "code",
   "execution_count": null,
   "metadata": {},
   "outputs": [],
   "source": []
  },
  {
   "cell_type": "code",
   "execution_count": null,
   "metadata": {},
   "outputs": [],
   "source": []
  }
 ],
 "metadata": {
  "kernelspec": {
   "display_name": "Python 3.8.8 ('base')",
   "language": "python",
   "name": "python3"
  },
  "language_info": {
   "codemirror_mode": {
    "name": "ipython",
    "version": 3
   },
   "file_extension": ".py",
   "mimetype": "text/x-python",
   "name": "python",
   "nbconvert_exporter": "python",
   "pygments_lexer": "ipython3",
   "version": "3.8.8"
  },
  "orig_nbformat": 4,
  "vscode": {
   "interpreter": {
    "hash": "6c772a304ed13b6eb8e6867a11b4f4e7c331c2ebe401648fd53df806887b7f9a"
   }
  }
 },
 "nbformat": 4,
 "nbformat_minor": 2
}
